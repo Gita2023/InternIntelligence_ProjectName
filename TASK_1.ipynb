{
  "nbformat": 4,
  "nbformat_minor": 0,
  "metadata": {
    "colab": {
      "provenance": [],
      "authorship_tag": "ABX9TyO6iSfpuYq5kX754DBHpr0N",
      "include_colab_link": true
    },
    "kernelspec": {
      "name": "python3",
      "display_name": "Python 3"
    },
    "language_info": {
      "name": "python"
    }
  },
  "cells": [
    {
      "cell_type": "markdown",
      "metadata": {
        "id": "view-in-github",
        "colab_type": "text"
      },
      "source": [
        "<a href=\"https://colab.research.google.com/github/Gita2023/InternIntelligence_ProjectName/blob/main/TASK_1.ipynb\" target=\"_parent\"><img src=\"https://colab.research.google.com/assets/colab-badge.svg\" alt=\"Open In Colab\"/></a>"
      ]
    },
    {
      "cell_type": "markdown",
      "source": [
        "# **Task One (Predictive Analytics Model)**"
      ],
      "metadata": {
        "id": "2ZNIEbbr3HqX"
      }
    },
    {
      "cell_type": "markdown",
      "source": [
        "**Import Libraries**"
      ],
      "metadata": {
        "id": "lcH94p2Ft48k"
      }
    },
    {
      "cell_type": "code",
      "execution_count": 1,
      "metadata": {
        "id": "eM9fGV71tkpy"
      },
      "outputs": [],
      "source": [
        "# Data Manipulation #\n",
        "import pandas as pd\n",
        "import numpy as np\n",
        "\n",
        "# Machine Learning #\n",
        "from sklearn.model_selection import train_test_split\n",
        "from sklearn.preprocessing import LabelEncoder, MinMaxScaler\n",
        "from sklearn.metrics import mean_squared_error\n",
        "\n",
        "# Time Series Modeling #\n",
        "from statsmodels.tsa.arima.model import ARIMA\n",
        "\n",
        "# Advanced Machine Learning #\n",
        "from xgboost import XGBRegressor\n",
        "\n",
        "# Visualization #\n",
        "import matplotlib.pyplot as plt\n",
        "\n",
        "# Model Saving #\n",
        "import joblib\n"
      ]
    },
    {
      "cell_type": "markdown",
      "source": [
        "**Load Data**"
      ],
      "metadata": {
        "id": "YopYiUk8uwyA"
      }
    },
    {
      "cell_type": "code",
      "source": [
        "from google.colab import files\n",
        "uploaded = files.upload()"
      ],
      "metadata": {
        "colab": {
          "base_uri": "https://localhost:8080/",
          "height": 73
        },
        "id": "oYHkfVDeuzxI",
        "outputId": "87ff73f8-1003-49f7-d81d-d7780939b4cf"
      },
      "execution_count": 4,
      "outputs": [
        {
          "output_type": "display_data",
          "data": {
            "text/plain": [
              "<IPython.core.display.HTML object>"
            ],
            "text/html": [
              "\n",
              "     <input type=\"file\" id=\"files-00c3c6cc-c97d-43cf-afab-a053959dc9c4\" name=\"files[]\" multiple disabled\n",
              "        style=\"border:none\" />\n",
              "     <output id=\"result-00c3c6cc-c97d-43cf-afab-a053959dc9c4\">\n",
              "      Upload widget is only available when the cell has been executed in the\n",
              "      current browser session. Please rerun this cell to enable.\n",
              "      </output>\n",
              "      <script>// Copyright 2017 Google LLC\n",
              "//\n",
              "// Licensed under the Apache License, Version 2.0 (the \"License\");\n",
              "// you may not use this file except in compliance with the License.\n",
              "// You may obtain a copy of the License at\n",
              "//\n",
              "//      http://www.apache.org/licenses/LICENSE-2.0\n",
              "//\n",
              "// Unless required by applicable law or agreed to in writing, software\n",
              "// distributed under the License is distributed on an \"AS IS\" BASIS,\n",
              "// WITHOUT WARRANTIES OR CONDITIONS OF ANY KIND, either express or implied.\n",
              "// See the License for the specific language governing permissions and\n",
              "// limitations under the License.\n",
              "\n",
              "/**\n",
              " * @fileoverview Helpers for google.colab Python module.\n",
              " */\n",
              "(function(scope) {\n",
              "function span(text, styleAttributes = {}) {\n",
              "  const element = document.createElement('span');\n",
              "  element.textContent = text;\n",
              "  for (const key of Object.keys(styleAttributes)) {\n",
              "    element.style[key] = styleAttributes[key];\n",
              "  }\n",
              "  return element;\n",
              "}\n",
              "\n",
              "// Max number of bytes which will be uploaded at a time.\n",
              "const MAX_PAYLOAD_SIZE = 100 * 1024;\n",
              "\n",
              "function _uploadFiles(inputId, outputId) {\n",
              "  const steps = uploadFilesStep(inputId, outputId);\n",
              "  const outputElement = document.getElementById(outputId);\n",
              "  // Cache steps on the outputElement to make it available for the next call\n",
              "  // to uploadFilesContinue from Python.\n",
              "  outputElement.steps = steps;\n",
              "\n",
              "  return _uploadFilesContinue(outputId);\n",
              "}\n",
              "\n",
              "// This is roughly an async generator (not supported in the browser yet),\n",
              "// where there are multiple asynchronous steps and the Python side is going\n",
              "// to poll for completion of each step.\n",
              "// This uses a Promise to block the python side on completion of each step,\n",
              "// then passes the result of the previous step as the input to the next step.\n",
              "function _uploadFilesContinue(outputId) {\n",
              "  const outputElement = document.getElementById(outputId);\n",
              "  const steps = outputElement.steps;\n",
              "\n",
              "  const next = steps.next(outputElement.lastPromiseValue);\n",
              "  return Promise.resolve(next.value.promise).then((value) => {\n",
              "    // Cache the last promise value to make it available to the next\n",
              "    // step of the generator.\n",
              "    outputElement.lastPromiseValue = value;\n",
              "    return next.value.response;\n",
              "  });\n",
              "}\n",
              "\n",
              "/**\n",
              " * Generator function which is called between each async step of the upload\n",
              " * process.\n",
              " * @param {string} inputId Element ID of the input file picker element.\n",
              " * @param {string} outputId Element ID of the output display.\n",
              " * @return {!Iterable<!Object>} Iterable of next steps.\n",
              " */\n",
              "function* uploadFilesStep(inputId, outputId) {\n",
              "  const inputElement = document.getElementById(inputId);\n",
              "  inputElement.disabled = false;\n",
              "\n",
              "  const outputElement = document.getElementById(outputId);\n",
              "  outputElement.innerHTML = '';\n",
              "\n",
              "  const pickedPromise = new Promise((resolve) => {\n",
              "    inputElement.addEventListener('change', (e) => {\n",
              "      resolve(e.target.files);\n",
              "    });\n",
              "  });\n",
              "\n",
              "  const cancel = document.createElement('button');\n",
              "  inputElement.parentElement.appendChild(cancel);\n",
              "  cancel.textContent = 'Cancel upload';\n",
              "  const cancelPromise = new Promise((resolve) => {\n",
              "    cancel.onclick = () => {\n",
              "      resolve(null);\n",
              "    };\n",
              "  });\n",
              "\n",
              "  // Wait for the user to pick the files.\n",
              "  const files = yield {\n",
              "    promise: Promise.race([pickedPromise, cancelPromise]),\n",
              "    response: {\n",
              "      action: 'starting',\n",
              "    }\n",
              "  };\n",
              "\n",
              "  cancel.remove();\n",
              "\n",
              "  // Disable the input element since further picks are not allowed.\n",
              "  inputElement.disabled = true;\n",
              "\n",
              "  if (!files) {\n",
              "    return {\n",
              "      response: {\n",
              "        action: 'complete',\n",
              "      }\n",
              "    };\n",
              "  }\n",
              "\n",
              "  for (const file of files) {\n",
              "    const li = document.createElement('li');\n",
              "    li.append(span(file.name, {fontWeight: 'bold'}));\n",
              "    li.append(span(\n",
              "        `(${file.type || 'n/a'}) - ${file.size} bytes, ` +\n",
              "        `last modified: ${\n",
              "            file.lastModifiedDate ? file.lastModifiedDate.toLocaleDateString() :\n",
              "                                    'n/a'} - `));\n",
              "    const percent = span('0% done');\n",
              "    li.appendChild(percent);\n",
              "\n",
              "    outputElement.appendChild(li);\n",
              "\n",
              "    const fileDataPromise = new Promise((resolve) => {\n",
              "      const reader = new FileReader();\n",
              "      reader.onload = (e) => {\n",
              "        resolve(e.target.result);\n",
              "      };\n",
              "      reader.readAsArrayBuffer(file);\n",
              "    });\n",
              "    // Wait for the data to be ready.\n",
              "    let fileData = yield {\n",
              "      promise: fileDataPromise,\n",
              "      response: {\n",
              "        action: 'continue',\n",
              "      }\n",
              "    };\n",
              "\n",
              "    // Use a chunked sending to avoid message size limits. See b/62115660.\n",
              "    let position = 0;\n",
              "    do {\n",
              "      const length = Math.min(fileData.byteLength - position, MAX_PAYLOAD_SIZE);\n",
              "      const chunk = new Uint8Array(fileData, position, length);\n",
              "      position += length;\n",
              "\n",
              "      const base64 = btoa(String.fromCharCode.apply(null, chunk));\n",
              "      yield {\n",
              "        response: {\n",
              "          action: 'append',\n",
              "          file: file.name,\n",
              "          data: base64,\n",
              "        },\n",
              "      };\n",
              "\n",
              "      let percentDone = fileData.byteLength === 0 ?\n",
              "          100 :\n",
              "          Math.round((position / fileData.byteLength) * 100);\n",
              "      percent.textContent = `${percentDone}% done`;\n",
              "\n",
              "    } while (position < fileData.byteLength);\n",
              "  }\n",
              "\n",
              "  // All done.\n",
              "  yield {\n",
              "    response: {\n",
              "      action: 'complete',\n",
              "    }\n",
              "  };\n",
              "}\n",
              "\n",
              "scope.google = scope.google || {};\n",
              "scope.google.colab = scope.google.colab || {};\n",
              "scope.google.colab._files = {\n",
              "  _uploadFiles,\n",
              "  _uploadFilesContinue,\n",
              "};\n",
              "})(self);\n",
              "</script> "
            ]
          },
          "metadata": {}
        },
        {
          "output_type": "stream",
          "name": "stdout",
          "text": [
            "Saving weatherHistory.csv to weatherHistory.csv\n"
          ]
        }
      ]
    },
    {
      "cell_type": "markdown",
      "source": [
        "**Inspect Dataset**"
      ],
      "metadata": {
        "id": "86X300mDt0Zj"
      }
    },
    {
      "cell_type": "code",
      "source": [
        "# Load dataset\n",
        "df = pd.read_csv('weatherHistory.csv')\n",
        "\n",
        "# Inspect the dataset #\n",
        "print(df.head())  # View first 5 rows\n",
        "print(df.info())  # View column data types and null counts\n",
        "print(df.describe())  # Summary statistics of numerical columns\n"
      ],
      "metadata": {
        "colab": {
          "base_uri": "https://localhost:8080/"
        },
        "id": "1rC2zpxTubAx",
        "outputId": "09998bff-1e69-4f40-892e-f257316fe2a5"
      },
      "execution_count": 5,
      "outputs": [
        {
          "output_type": "stream",
          "name": "stdout",
          "text": [
            "                  Formatted Date        Summary Precip Type  Temperature (C)  \\\n",
            "0  2006-04-01 00:00:00.000 +0200  Partly Cloudy        rain         9.472222   \n",
            "1  2006-04-01 01:00:00.000 +0200  Partly Cloudy        rain         9.355556   \n",
            "2  2006-04-01 02:00:00.000 +0200  Mostly Cloudy        rain         9.377778   \n",
            "3  2006-04-01 03:00:00.000 +0200  Partly Cloudy        rain         8.288889   \n",
            "4  2006-04-01 04:00:00.000 +0200  Mostly Cloudy        rain         8.755556   \n",
            "\n",
            "   Apparent Temperature (C)  Humidity  Wind Speed (km/h)  \\\n",
            "0                  7.388889      0.89            14.1197   \n",
            "1                  7.227778      0.86            14.2646   \n",
            "2                  9.377778      0.89             3.9284   \n",
            "3                  5.944444      0.83            14.1036   \n",
            "4                  6.977778      0.83            11.0446   \n",
            "\n",
            "   Wind Bearing (degrees)  Visibility (km)  Loud Cover  Pressure (millibars)  \\\n",
            "0                   251.0          15.8263         0.0               1015.13   \n",
            "1                   259.0          15.8263         0.0               1015.63   \n",
            "2                   204.0          14.9569         0.0               1015.94   \n",
            "3                   269.0          15.8263         0.0               1016.41   \n",
            "4                   259.0          15.8263         0.0               1016.51   \n",
            "\n",
            "                       Daily Summary  \n",
            "0  Partly cloudy throughout the day.  \n",
            "1  Partly cloudy throughout the day.  \n",
            "2  Partly cloudy throughout the day.  \n",
            "3  Partly cloudy throughout the day.  \n",
            "4  Partly cloudy throughout the day.  \n",
            "<class 'pandas.core.frame.DataFrame'>\n",
            "RangeIndex: 96453 entries, 0 to 96452\n",
            "Data columns (total 12 columns):\n",
            " #   Column                    Non-Null Count  Dtype  \n",
            "---  ------                    --------------  -----  \n",
            " 0   Formatted Date            96453 non-null  object \n",
            " 1   Summary                   96453 non-null  object \n",
            " 2   Precip Type               95936 non-null  object \n",
            " 3   Temperature (C)           96453 non-null  float64\n",
            " 4   Apparent Temperature (C)  96453 non-null  float64\n",
            " 5   Humidity                  96453 non-null  float64\n",
            " 6   Wind Speed (km/h)         96453 non-null  float64\n",
            " 7   Wind Bearing (degrees)    96453 non-null  float64\n",
            " 8   Visibility (km)           96453 non-null  float64\n",
            " 9   Loud Cover                96453 non-null  float64\n",
            " 10  Pressure (millibars)      96453 non-null  float64\n",
            " 11  Daily Summary             96453 non-null  object \n",
            "dtypes: float64(8), object(4)\n",
            "memory usage: 8.8+ MB\n",
            "None\n",
            "       Temperature (C)  Apparent Temperature (C)      Humidity  \\\n",
            "count     96453.000000              96453.000000  96453.000000   \n",
            "mean         11.932678                 10.855029      0.734899   \n",
            "std           9.551546                 10.696847      0.195473   \n",
            "min         -21.822222                -27.716667      0.000000   \n",
            "25%           4.688889                  2.311111      0.600000   \n",
            "50%          12.000000                 12.000000      0.780000   \n",
            "75%          18.838889                 18.838889      0.890000   \n",
            "max          39.905556                 39.344444      1.000000   \n",
            "\n",
            "       Wind Speed (km/h)  Wind Bearing (degrees)  Visibility (km)  Loud Cover  \\\n",
            "count       96453.000000            96453.000000     96453.000000     96453.0   \n",
            "mean           10.810640              187.509232        10.347325         0.0   \n",
            "std             6.913571              107.383428         4.192123         0.0   \n",
            "min             0.000000                0.000000         0.000000         0.0   \n",
            "25%             5.828200              116.000000         8.339800         0.0   \n",
            "50%             9.965900              180.000000        10.046400         0.0   \n",
            "75%            14.135800              290.000000        14.812000         0.0   \n",
            "max            63.852600              359.000000        16.100000         0.0   \n",
            "\n",
            "       Pressure (millibars)  \n",
            "count          96453.000000  \n",
            "mean            1003.235956  \n",
            "std              116.969906  \n",
            "min                0.000000  \n",
            "25%             1011.900000  \n",
            "50%             1016.450000  \n",
            "75%             1021.090000  \n",
            "max             1046.380000  \n"
          ]
        }
      ]
    },
    {
      "cell_type": "markdown",
      "source": [
        "**Data Cleaning**"
      ],
      "metadata": {
        "id": "5w2BQ_9Xv_oF"
      }
    },
    {
      "cell_type": "code",
      "source": [
        "# Drop constant column 'Loud Cover' #\n",
        "if 'Loud Cover' in df.columns:\n",
        "    df.drop(columns=['Loud Cover'], inplace=True)\n",
        "\n",
        "# Fill missing values #\n",
        "df['Temperature (C)'] = df['Temperature (C)'].fillna(df['Temperature (C)'].mean())\n",
        "df['Precip Type'] = df['Precip Type'].fillna('Unknown')\n",
        "\n"
      ],
      "metadata": {
        "id": "Lk-uzUMdwEWm"
      },
      "execution_count": 7,
      "outputs": []
    },
    {
      "cell_type": "markdown",
      "source": [
        "**Data Preprocessing**\n",
        "\n",
        "\n",
        "*   *Encode Categorical Columns*\n",
        "\n",
        "\n"
      ],
      "metadata": {
        "id": "YA_d8vzHw2s4"
      }
    },
    {
      "cell_type": "code",
      "source": [
        "# Encode categorical variables#\n",
        "encoder = LabelEncoder()\n",
        "df['Precip Type'] = encoder.fit_transform(df['Precip Type'])\n",
        "df['Summary'] = encoder.fit_transform(df['Summary'])\n",
        "df['Daily Summary'] = encoder.fit_transform(df['Daily Summary'])\n"
      ],
      "metadata": {
        "id": "lxutCRmgw6up"
      },
      "execution_count": 8,
      "outputs": []
    },
    {
      "cell_type": "markdown",
      "source": [
        "\n",
        "\n",
        "* *Create Date-Based Features*\n",
        "\n",
        "\n"
      ],
      "metadata": {
        "id": "eeZgyotOxijd"
      }
    },
    {
      "cell_type": "code",
      "source": [
        "# Convert to datetime $\n",
        "df['Formatted Date'] = pd.to_datetime(df['Formatted Date'], utc=True, errors='coerce')\n",
        "\n",
        "# Drop rows #\n",
        "df = df.dropna(subset=['Formatted Date'])\n",
        "\n",
        "# Extract features #\n",
        "df['Year'] = df['Formatted Date'].dt.year\n",
        "df['Month'] = df['Formatted Date'].dt.month\n",
        "df['Day'] = df['Formatted Date'].dt.day\n",
        "df['Hour'] = df['Formatted Date'].dt.hour\n",
        "\n"
      ],
      "metadata": {
        "id": "ZtN4Yj28xwB5"
      },
      "execution_count": 10,
      "outputs": []
    },
    {
      "cell_type": "markdown",
      "source": [
        "\n",
        "\n",
        "*   *Add Lag and Moving Average Features*\n",
        "\n",
        "\n"
      ],
      "metadata": {
        "id": "wt1YGq8nx0Ze"
      }
    },
    {
      "cell_type": "code",
      "source": [
        "# Add lag feature (previous temperature)#\n",
        "df['Lag_Temp'] = df['Temperature (C)'].shift(1)\n",
        "\n",
        "# Add moving average (3-hour window)\n",
        "df['Temp_MA3'] = df['Temperature (C)'].rolling(window=3).mean()\n"
      ],
      "metadata": {
        "id": "nKpLCMHOyK8m"
      },
      "execution_count": 11,
      "outputs": []
    },
    {
      "cell_type": "markdown",
      "source": [
        "\n",
        "\n",
        "*   *Normalize Numerical Features*\n",
        "\n",
        "\n"
      ],
      "metadata": {
        "id": "F2AtjsVCyEYm"
      }
    },
    {
      "cell_type": "code",
      "source": [
        "# Normalize numerical columns#\n",
        "scaler = MinMaxScaler()\n",
        "numerical_cols = ['Temperature (C)', 'Apparent Temperature (C)', 'Humidity',\n",
        "                  'Wind Speed (km/h)', 'Wind Bearing (degrees)', 'Visibility (km)', 'Pressure (millibars)']\n",
        "df[numerical_cols] = scaler.fit_transform(df[numerical_cols])\n"
      ],
      "metadata": {
        "id": "4pmuVu-fyORm"
      },
      "execution_count": 12,
      "outputs": []
    },
    {
      "cell_type": "markdown",
      "source": [
        "**Split Data**\n",
        "\n",
        "*   *For Time Series Modeling*\n",
        "\n"
      ],
      "metadata": {
        "id": "IdKifk3RzArB"
      }
    },
    {
      "cell_type": "code",
      "source": [
        "# Split chronologically (80% train, 20% test) #\n",
        "train_size = int(len(df) * 0.8)\n",
        "train, test = df[:train_size], df[train_size:]\n"
      ],
      "metadata": {
        "id": "H6O9AoTczgAZ"
      },
      "execution_count": null,
      "outputs": []
    },
    {
      "cell_type": "markdown",
      "source": [
        "\n",
        "\n",
        "\n",
        "*   *For Time Series Modeling*\n",
        "\n",
        "\n",
        "\n",
        "\n"
      ],
      "metadata": {
        "id": "FNGLczBgzn0L"
      }
    },
    {
      "cell_type": "code",
      "source": [
        "# Split chronologically (80% train, 20% test)\n",
        "train_size = int(len(df) * 0.8)\n",
        "train, test = df[:train_size], df[train_size:]\n"
      ],
      "metadata": {
        "id": "fLBJKL2q0Ii1"
      },
      "execution_count": 13,
      "outputs": []
    },
    {
      "cell_type": "markdown",
      "source": [
        "\n",
        "\n",
        "*  *For Regression Modeling*\n",
        "\n",
        "\n"
      ],
      "metadata": {
        "id": "Et55eXsRzskY"
      }
    },
    {
      "cell_type": "code",
      "source": [
        "# Define features (X) and target (y)\n",
        "X = df[numerical_cols + ['Precip Type', 'Summary', 'Lag_Temp', 'Temp_MA3']].dropna()\n",
        "y = df['Temperature (C)'][X.index]\n",
        "\n",
        "# Random split\n",
        "X_train, X_test, y_train, y_test = train_test_split(X, y, test_size=0.2, random_state=42)\n"
      ],
      "metadata": {
        "id": "kKd0iuFC0Lp8"
      },
      "execution_count": 14,
      "outputs": []
    },
    {
      "cell_type": "markdown",
      "source": [
        "**Build Models**\n",
        "\n",
        "*   *Train Time Series Model (ARIMA)*\n",
        "\n",
        "\n"
      ],
      "metadata": {
        "id": "gkGgpMNP0Vg8"
      }
    },
    {
      "cell_type": "code",
      "source": [
        "# Train ARIMA #\n",
        "model = ARIMA(train['Temperature (C)'], order=(5, 1, 0))\n",
        "model_fit = model.fit()\n",
        "\n",
        "# Forecast #\n",
        "forecast = model_fit.forecast(steps=len(test))\n",
        "\n",
        "# Evaluate #\n",
        "from sklearn.metrics import mean_squared_error\n",
        "import numpy as np\n",
        "\n",
        "rmse_arima = np.sqrt(mean_squared_error(test['Temperature (C)'], forecast))\n",
        "\n",
        "print(f\"ARIMA RMSE: {rmse_arima}\")\n",
        "\n",
        "# Plot ARIMA Results #\n",
        "plt.figure(figsize=(10, 6))\n",
        "plt.plot(test['Temperature (C)'].values, label='Actual')\n",
        "plt.plot(forecast, label='Forecast', color='red')\n",
        "plt.legend()\n",
        "plt.show()\n"
      ],
      "metadata": {
        "id": "G0i2_HQm02Qj"
      },
      "execution_count": null,
      "outputs": []
    },
    {
      "cell_type": "markdown",
      "source": [
        "\n",
        "\n",
        "*   *Train Regression Model (XGBoost)*\n",
        "\n",
        "\n"
      ],
      "metadata": {
        "id": "T5uz29In0fVH"
      }
    },
    {
      "cell_type": "code",
      "source": [
        "# Train XGBoost #\n",
        "xgb_model = XGBRegressor()\n",
        "xgb_model.fit(X_train, y_train)\n",
        "\n",
        "# Predict #\n",
        "y_pred = xgb_model.predict(X_test)\n",
        "\n",
        "# Evaluate #\n",
        "rmse_xgb = np.sqrt(mean_squared_error(y_test, y_pred))\n",
        "print(f\"XGBoost RMSE: {rmse_xgb}\")\n",
        "\n",
        "# Plot XGBoost Results #\n",
        "plt.figure(figsize=(10, 6))\n",
        "plt.plot(y_test.values, label='Actual')\n",
        "plt.plot(y_pred, label='Predicted', color='red')\n",
        "plt.legend()\n",
        "plt.show()\n",
        "\n"
      ],
      "metadata": {
        "colab": {
          "base_uri": "https://localhost:8080/",
          "height": 539
        },
        "id": "HAl3PYmX0-fb",
        "outputId": "5c6fffba-0d88-472f-bdb8-fd54598fa130"
      },
      "execution_count": 18,
      "outputs": [
        {
          "output_type": "stream",
          "name": "stdout",
          "text": [
            "XGBoost RMSE: 0.0017351766932430478\n"
          ]
        },
        {
          "output_type": "display_data",
          "data": {
            "text/plain": [
              "<Figure size 1000x600 with 1 Axes>"
            ],
            "image/png": "[encoded data removed]"
          },
          "metadata": {}
        }
      ]
    },
    {
      "cell_type": "markdown",
      "source": [
        "**Save the Model**"
      ],
      "metadata": {
        "id": "ANSEYws22VDj"
      }
    },
    {
      "cell_type": "code",
      "source": [
        "if rmse_xgb < rmse_arima:\n",
        "    joblib.dump(xgb_model, 'best_model.pkl')\n",
        "    print(\"XGBoost model saved.\")\n",
        "else:\n",
        "    joblib.dump(model_fit, 'best_model.pkl')\n",
        "    print(\"ARIMA model saved.\")\n"
      ],
      "metadata": {
        "colab": {
          "base_uri": "https://localhost:8080/"
        },
        "id": "xSHjhSEQ2XOg",
        "outputId": "339dd2cb-5b57-466a-e5bb-bfd2b8504447"
      },
      "execution_count": 19,
      "outputs": [
        {
          "output_type": "stream",
          "name": "stdout",
          "text": [
            "XGBoost model saved.\n"
          ]
        }
      ]
    }
  ]
}